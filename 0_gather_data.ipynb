{
 "cells": [
  {
   "cell_type": "markdown",
   "metadata": {},
   "source": [
    "# GATHER DATA"
   ]
  },
  {
   "cell_type": "code",
   "execution_count": null,
   "metadata": {},
   "outputs": [],
   "source": [
    "#sample size\n",
    "n = 7000 #100 \n",
    "data_file = \"data_\" #\"pilot_\""
   ]
  },
  {
   "cell_type": "markdown",
   "metadata": {},
   "source": [
    "## Instantiating all 4 Operators"
   ]
  },
  {
   "cell_type": "code",
   "execution_count": null,
   "metadata": {},
   "outputs": [],
   "source": [
    "library(ExpDE)\n",
    "\n",
    "# shared parameters\n",
    "selpars <- list(name = \"selection_standard\")\n",
    "stopcrit <- list(names = \"stop_maxeval\", maxevals = 60000, maxiter = 1000)\n",
    "probpars <- list(name = \"sphere\", xmin = -seq(1,20), xmax = 20 + 5 * seq(5, 24))\n",
    "\n",
    "## Operator 1 -- Arithmetic recombination\n",
    "recpars1 <- list(name = \"recombination_arith\")\n",
    "mutpars1 <- list(name = \"mutation_rand\", f = 4)\n",
    "popsize1 <- 300\n",
    "## Operator 2 -- Binomial recombination\n",
    "recpars2 <- list(name = \"recombination_bin\", cr = 0.7)\n",
    "mutpars2 <- list(name = \"mutation_best\", f = 3)\n",
    "popsize2 <- 300\n",
    "## Operator 3 -- BLX-alpha recombination\n",
    "recpars3 <- list(name = \"recombination_blxAlphaBeta\", alpha = 0.4, beta = 0.4)\n",
    "mutpars3 <- list(name = \"mutation_rand\", f = 4)\n",
    "popsize3 <- 230\n",
    "## Operator 4 -- Eigenvector-based binomial recombination\n",
    "recpars4 <- list(name = \"recombination_eigen\", othername = \"recombination_bin\", cr = 0.9)\n",
    "mutpars4 <- list(name = \"mutation_best\", f = 2.8)\n",
    "popsize4 <- 85\n",
    "\n",
    "# aggregating\n",
    "recpars_list <- list(recpars1, recpars2, recpars3, recpars4)\n",
    "mutpars_list <- list(mutpars1, mutpars2, mutpars3, mutpars4)\n",
    "popsize_list <- c(popsize1, popsize2 ,popsize3 ,popsize4)"
   ]
  },
  {
   "cell_type": "markdown",
   "metadata": {},
   "source": [
    "## Gathering and saving the data"
   ]
  },
  {
   "cell_type": "code",
   "execution_count": null,
   "metadata": {},
   "outputs": [],
   "source": [
    "reps = 1:n\n",
    "\n",
    "for(i in 1:4){\n",
    "    popsize <- popsize_list[[i]]\n",
    "    mutpars <- mutpars_list[[i]]\n",
    "    recpars <- recpars_list[[i]]\n",
    "    results <- data.frame()\n",
    "    \n",
    "    for (j in reps){\n",
    "        if(j%%500==0){\n",
    "            print(j)\n",
    "            flush.console()\n",
    "        }\n",
    "        out <- ExpDE(popsize, mutpars, recpars, selpars, stopcrit, probpars)\n",
    "        results <- rbind(results, out$Fbest)\n",
    "    }\n",
    "    \n",
    "    file_name = paste(data_file, i, \".txt\", sep=\"\")\n",
    "    write.table(results, file=file_name, row.names = FALSE, col.names = FALSE, sep=\",\")\n",
    "}"
   ]
  }
 ],
 "metadata": {
  "kernelspec": {
   "display_name": "R",
   "language": "R",
   "name": "ir"
  },
  "language_info": {
   "codemirror_mode": "r",
   "file_extension": ".r",
   "mimetype": "text/x-r-source",
   "name": "R",
   "pygments_lexer": "r",
   "version": "3.5.1"
  }
 },
 "nbformat": 4,
 "nbformat_minor": 2
}
